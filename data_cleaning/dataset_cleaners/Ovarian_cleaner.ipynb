{
 "cells": [
  {
   "cell_type": "code",
   "execution_count": 6,
   "metadata": {},
   "outputs": [],
   "source": [
    "import pandas as pd"
   ]
  },
  {
   "cell_type": "code",
   "execution_count": 7,
   "metadata": {},
   "outputs": [],
   "source": [
    "df_1 = pd.read_excel(\"../original_metadata/new_CA125 data_20230207.xlsx\", sheet_name=\"Ovary.effective-162\")\n",
    "df_2 = pd.read_excel(\"../original_metadata/new_CA125 data_20230207.xlsx\", sheet_name=\"Ovary.invalid-126\")"
   ]
  },
  {
   "cell_type": "code",
   "execution_count": 8,
   "metadata": {},
   "outputs": [
    {
     "data": {
      "text/plain": [
       "effective    160\n",
       "invalid      126\n",
       "Name: Treatment effect, dtype: int64"
      ]
     },
     "execution_count": 8,
     "metadata": {},
     "output_type": "execute_result"
    }
   ],
   "source": [
    "# patiend id can be kept to make fair test splits..\n",
    "df = pd.concat([df_1, df_2])\n",
    "df[\"Treatment effect\"].value_counts()"
   ]
  },
  {
   "cell_type": "code",
   "execution_count": 9,
   "metadata": {},
   "outputs": [],
   "source": [
    "df[\"case_id\"] = df[\"Patient ID\"]\n",
    "map_dict = {'effective': 1, 'invalid': 0}\n",
    "# Apply the mapping to the column using the map() function\n",
    "df['label'] = df['Treatment effect'].map(map_dict)\n",
    "df[\"slide_id\"] = df[\"Image No.\"].str[:-4]"
   ]
  },
  {
   "cell_type": "code",
   "execution_count": 10,
   "metadata": {},
   "outputs": [],
   "source": [
    "# clean to be binary classifictation.\n",
    "df = df.drop(columns=[\"Image No.\",\"No\",\"Patient ID\",\"Treatment effect\",\"CA-125 before\",\"CA-125 after\", \"No.\"])\n",
    "\n",
    "df.to_csv(\"../dataset_csv/Ovarian_responce.csv\",index=None)"
   ]
  }
 ],
 "metadata": {
  "kernelspec": {
   "display_name": "Python 3",
   "language": "python",
   "name": "python3"
  },
  "language_info": {
   "codemirror_mode": {
    "name": "ipython",
    "version": 3
   },
   "file_extension": ".py",
   "mimetype": "text/x-python",
   "name": "python",
   "nbconvert_exporter": "python",
   "pygments_lexer": "ipython3",
   "version": "3.7.7"
  },
  "orig_nbformat": 4
 },
 "nbformat": 4,
 "nbformat_minor": 2
}
