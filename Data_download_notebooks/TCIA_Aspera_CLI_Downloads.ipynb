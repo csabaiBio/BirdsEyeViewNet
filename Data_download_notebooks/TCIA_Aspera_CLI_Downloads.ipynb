{
  "cells": [
    {
      "attachments": {},
      "cell_type": "markdown",
      "metadata": {
        "id": "s0EsIhNbmDdK"
      },
      "source": [
        "You can download and run this notebook locally, or you can run it for free in a cloud environment using Colab or Sagemaker Studio Lab:\n",
        "\n",
        "[![Open In Colab](https://colab.research.google.com/assets/colab-badge.svg)](https://colab.research.google.com/github/kirbyju/TCIA_Notebooks/blob/main/TCIA_Aspera_CLI_Downloads.ipynb)\n",
        "\n",
        "[![Open In SageMaker Studio Lab](https://studiolab.sagemaker.aws/studiolab.svg)](https://studiolab.sagemaker.aws/import/github.com/kirbyju/TCIA_Notebooks/blob/main/TCIA_Aspera_CLI_Downloads.ipynb)"
      ]
    },
    {
      "attachments": {},
      "cell_type": "markdown",
      "metadata": {
        "id": "r9j_S5oaJ4nl"
      },
      "source": [
        "# Summary\n",
        "Much of non-DICOM content in [The Cancer Imaging Archive (TCIA)](https://www.cancerimagingarchive.net/) is provided via links to IBM Aspera Faspex packages.  Aspera’s FASP protocol is designed to move data rapidly across networks with minimal disruption to other traffic.  Aspera’s Faspex application bundles data into packages that can be referenced via a web link (i.e., a URI).  When an Aspera Faspex link resolves in a browser, it presents a GUI that guides a user through the process of installing a browser extension and a local Aspera Connect client, if not already there, that moves the data using FASP between TCIA servers and the computer the browser is running on.\n",
        "We frequently get requests from researchers for an option to download TCIA Faspex packages using a command line interface, suitable for inclusion in shell/batch scripts, that bypasses the GUI.  While not a part of the standard Aspera distributions, the IBM Aspera developers have provided an open source tool (Apache 2.0 license) called ascli (aspera-cli) that allows a client to download an Aspera Faspex package using its URI.\n"
      ]
    },
    {
      "attachments": {},
      "cell_type": "markdown",
      "metadata": {
        "id": "y3eFafyJJ9Lt"
      },
      "source": [
        "# Install prerequisite software"
      ]
    },
    {
      "cell_type": "code",
      "execution_count": 1,
      "metadata": {
        "id": "AQvpSl56Fdp4"
      },
      "outputs": [
        {
          "name": "stdout",
          "output_type": "stream",
          "text": [
            "Get:1 file:/var/cuda-repo-ubuntu2004-11-8-local  InRelease [1,575 B]\n",
            "Hit:2 http://hu.archive.ubuntu.com/ubuntu focal InRelease\n",
            "Hit:3 http://hu.archive.ubuntu.com/ubuntu focal-updates InRelease\n",
            "Get:1 file:/var/cuda-repo-ubuntu2004-11-8-local  InRelease [1,575 B]           \n",
            "Hit:4 http://hu.archive.ubuntu.com/ubuntu focal-backports InRelease            \n",
            "Hit:5 http://hu.archive.ubuntu.com/ubuntu focal-security InRelease             \n",
            "Get:6 file:/var/cudnn-local-repo-ubuntu2004-8.9.1.23  InRelease [1,572 B]      \n",
            "Get:6 file:/var/cudnn-local-repo-ubuntu2004-8.9.1.23  InRelease [1,572 B]      \n",
            "Hit:7 https://nvidia.github.io/libnvidia-container/stable/ubuntu18.04/amd64  InRelease\n",
            "Hit:8 https://brave-browser-apt-release.s3.brave.com stable InRelease          \n",
            "Hit:9 https://downloads.skewed.de/apt focal InRelease                          \n",
            "Hit:10 https://packagecloud.io/github/git-lfs/ubuntu focal InRelease           \n",
            "Reading package lists... Done\n",
            "Reading package lists... Done\n",
            "Building dependency tree       \n",
            "Reading state information... Done\n",
            "ruby-dev is already the newest version (1:2.7+1).\n",
            "0 upgraded, 0 newly installed, 0 to remove and 22 not upgraded.\n",
            "Reading package lists... Done\n",
            "Building dependency tree       \n",
            "Reading state information... Done\n",
            "libffi-dev is already the newest version (3.3-4).\n",
            "libtool is already the newest version (2.4.6-14).\n",
            "make is already the newest version (4.2.1-1.2).\n",
            "ruby is already the newest version (1:2.7+1).\n",
            "ruby-dev is already the newest version (1:2.7+1).\n",
            "0 upgraded, 0 newly installed, 0 to remove and 22 not upgraded.\n",
            "Reading package lists... Done\n",
            "Building dependency tree       \n",
            "Reading state information... Done\n",
            "libczmq-dev is already the newest version (4.2.0-2).\n",
            "libzmq3-dev is already the newest version (4.3.2-2ubuntu1).\n",
            "0 upgraded, 0 newly installed, 0 to remove and 22 not upgraded.\n",
            "[sudo] password for ozkilim: Successfully installed ffi-rzmq-2.0.7\n",
            "Parsing documentation for ffi-rzmq-2.0.7\n",
            "Done installing documentation for ffi-rzmq after 0 seconds\n",
            "Successfully installed rake-13.0.6\n",
            "Parsing documentation for rake-13.0.6\n",
            "Done installing documentation for rake after 0 seconds\n",
            "2 gems installed\n",
            "[sudo] password for ozkilim: Fetching specific_install-0.3.8.gem\n",
            "Successfully installed specific_install-0.3.8\n",
            "Parsing documentation for specific_install-0.3.8\n",
            "Installing ri documentation for specific_install-0.3.8\n",
            "Done installing documentation for specific_install after 0 seconds\n",
            "1 gem installed\n",
            "[sudo] password for ozkilim: git version 2.25.1\n",
            "http installing from https://github.com/SciRuby/iruby\n",
            "Cloning into '/tmp/d20230701-691615-3xjtgy'...\n",
            "remote: Enumerating objects: 3624, done.\u001b[K\n",
            "remote: Counting objects: 100% (666/666), done.\u001b[K\n",
            "remote: Compressing objects: 100% (275/275), done.\u001b[K\n",
            "remote: Total 3624 (delta 389), reused 607 (delta 357), pack-reused 2958\u001b[K\n",
            "Receiving objects: 100% (3624/3624), 1.48 MiB | 2.98 MiB/s, done.\n",
            "Resolving deltas: 100% (1881/1881), done.\n",
            "WARNING:  open-ended dependency on ffi-rzmq (>= 0) is not recommended\n",
            "  use a bounded requirement, such as '~> x.y'\n",
            "WARNING:  open-ended dependency on irb (>= 0) is not recommended\n",
            "  use a bounded requirement, such as '~> x.y'\n",
            "WARNING:  open-ended dependency on mime-types (>= 3.3.1) is not recommended\n",
            "  if mime-types is semantically versioned, use:\n",
            "    add_runtime_dependency 'mime-types', '~> 3.3', '>= 3.3.1'\n",
            "WARNING:  open-ended dependency on native-package-installer (>= 0) is not recommended\n",
            "  use a bounded requirement, such as '~> x.y'\n",
            "WARNING:  open-ended dependency on pycall (>= 1.2.1, development) is not recommended\n",
            "  if pycall is semantically versioned, use:\n",
            "    add_development_dependency 'pycall', '~> 1.2', '>= 1.2.1'\n",
            "WARNING:  open-ended dependency on rake (>= 0, development) is not recommended\n",
            "  use a bounded requirement, such as '~> x.y'\n",
            "WARNING:  open-ended dependency on test-unit (>= 0, development) is not recommended\n",
            "  use a bounded requirement, such as '~> x.y'\n",
            "WARNING:  open-ended dependency on test-unit-rr (>= 0, development) is not recommended\n",
            "  use a bounded requirement, such as '~> x.y'\n",
            "WARNING:  See http://guides.rubygems.org/specification-reference/ for help\n",
            "  Successfully built RubyGem\n",
            "  Name: iruby\n",
            "  Version: 0.7.4\n",
            "  File: iruby-0.7.4.gem\n",
            "Fetching data_uri-0.1.0.gem\n",
            "Fetching native-package-installer-1.1.8.gem\n",
            "Fetching mime-types-3.4.1.gem\n",
            "Fetching multi_json-1.15.0.gem\n",
            "Fetching mime-types-data-3.2023.0218.1.gem\n",
            "Building native extensions. This could take a while...\n",
            "/usr/lib/ruby/2.7.0/rubygems/ext/builder.rb:165: warning: conflicting chdir during another chdir block\n",
            "/usr/lib/ruby/2.7.0/rubygems/ext/builder.rb:173: warning: conflicting chdir during another chdir block\n",
            "Successfully installed\n",
            "[sudo] password for ozkilim: EXECUTE: jupyter kernelspec install --name=ruby2 --user /tmp/iruby_kernel20230701-691681-71xqtz/ruby2\n",
            "Traceback (most recent call last):\n",
            "  File \"/usr/bin/jupyter\", line 11, in <module>\n",
            "    load_entry_point('jupyter-core==4.6.3', 'console_scripts', 'jupyter')()\n",
            "  File \"/usr/lib/python3/dist-packages/jupyter_core/command.py\", line 247, in main\n",
            "    command = _jupyter_abspath(subcommand)\n",
            "  File \"/usr/lib/python3/dist-packages/jupyter_core/command.py\", line 133, in _jupyter_abspath\n",
            "    raise Exception(\n",
            "Exception: Jupyter command `jupyter-kernelspec` not found.\n",
            "[sudo] password for ozkilim: Successfully installed net-protocol-0.1.2\n",
            "Parsing documentation for net-protocol-0.1.2\n",
            "Done installing documentation for net-protocol after 0 seconds\n",
            "1 gem installed\n",
            "[sudo] password for ozkilim: Successfully installed net-smtp-0.3.0\n",
            "Parsing documentation for net-smtp-0.3.0\n",
            "Done installing documentation for net-smtp after 0 seconds\n",
            "1 gem installed\n",
            "[sudo] password for ozkilim: Fetching aspera-cli-4.13.0.gem\n",
            "Successfully installed aspera-cli-4.13.0\n",
            "Parsing documentation for aspera-cli-4.13.0\n",
            "Installing ri documentation for aspera-cli-4.13.0\n",
            "Done installing documentation for aspera-cli after 1 seconds\n",
            "1 gem installed\n",
            "[sudo] password for ozkilim: /var/lib/gems/2.7.0/gems/net-protocol-0.1.2/lib/net/protocol.rb:68: warning: already initialized constant Net::ProtocRetryError\n",
            "/usr/lib/ruby/2.7.0/net/protocol.rb:66: warning: previous definition of ProtocRetryError was here\n",
            "/var/lib/gems/2.7.0/gems/net-protocol-0.1.2/lib/net/protocol.rb:208: warning: already initialized constant Net::BufferedIO::BUFSIZE\n",
            "/usr/lib/ruby/2.7.0/net/protocol.rb:206: warning: previous definition of BUFSIZE was here\n",
            "/var/lib/gems/2.7.0/gems/net-protocol-0.1.2/lib/net/protocol.rb:504: warning: already initialized constant Net::NetPrivate::Socket\n",
            "/usr/lib/ruby/2.7.0/net/protocol.rb:503: warning: previous definition of Socket was here\n",
            "Time: 00:00:22 ================================= 100% 4912 KB/sec Time: 00:00:22\n",
            "W, [2023-07-01T16:56:43.794250 #691756]  WARN -- : Previous install exists, renaming folder.\n",
            "Installed version 1.1.1.52\n"
          ]
        }
      ],
      "source": [
        "! sudo apt-get update\n",
        "! sudo apt-get install ruby-dev\n",
        "! sudo apt install libtool libffi-dev ruby ruby-dev make\n",
        "! sudo apt install libzmq3-dev libczmq-dev\n",
        "! sudo gem install ffi-rzmq rake\n",
        "! sudo gem install specific_install\n",
        "! sudo gem specific_install https://github.com/SciRuby/iruby\n",
        "! sudo iruby register\n",
        "! sudo gem install net-protocol -v 0.1.2\n",
        "! sudo gem install net-smtp -v 0.3.0\n",
        "! sudo gem install aspera-cli\n",
        "! sudo ascli conf ascp install"
      ]
    },
    {
      "attachments": {},
      "cell_type": "markdown",
      "metadata": {
        "id": "KgL7C-R_KCIq"
      },
      "source": [
        "# Download an Aspera package"
      ]
    },
    {
      "attachments": {},
      "cell_type": "markdown",
      "metadata": {
        "id": "y0f2sW2QHf7t"
      },
      "source": [
        "Now that the prerequisite installations are complete, you will be able to use the ascli command to transfer a TCIA Faspex package using just its URI. To get a TCIA packages’s URI:\n",
        "1.\tBrowse to the collection landing page that describes the package, \n",
        "2.\tFind the “Download” button that one normally would use to download the package using the Faspex GUI, but do not click it,\n",
        "3.\tRight click that button icon and select “copy link address” or “copy link” or similar (depends on your browser) to extract the package URI into the clipboard or copy/paste buffer.\n",
        "\n",
        "Now that you have the package URI, the method for transferring a package to your system is with a command similar to the following, replacing the last line with the URI of the package you want to download.  You may also want to change the **--to-folder** path.\n",
        "\n",
        "**Note:** If you don't change the package URL below it will take about 5 minutes to download an example package (~9 gbytes) from the [Comparison of mIF versus mIHC for immune markers in head and neck carcinoma (HNSCC-mIF-mIHC-comparison)](https://doi.org/10.7937/TCIA.2020.T90F-WB82) collection.\n"
      ]
    },
    {
      "cell_type": "code",
      "execution_count": 2,
      "metadata": {
        "id": "FARAT8cNHhs0"
      },
      "outputs": [
        {
          "name": "stdout",
          "output_type": "stream",
          "text": [
            "/var/lib/gems/2.7.0/gems/net-protocol-0.1.2/lib/net/protocol.rb:68: warning: already initialized constant Net::ProtocRetryError\n",
            "/usr/lib/ruby/2.7.0/net/protocol.rb:66: warning: previous definition of ProtocRetryError was here\n",
            "/var/lib/gems/2.7.0/gems/net-protocol-0.1.2/lib/net/protocol.rb:208: warning: already initialized constant Net::BufferedIO::BUFSIZE\n",
            "/usr/lib/ruby/2.7.0/net/protocol.rb:206: warning: previous definition of BUFSIZE was here\n",
            "/var/lib/gems/2.7.0/gems/net-protocol-0.1.2/lib/net/protocol.rb:504: warning: already initialized constant Net::NetPrivate::Socket\n",
            "/usr/lib/ruby/2.7.0/net/protocol.rb:503: warning: previous definition of Socket was here\n"
          ]
        }
      ],
      "source": [
        "!ascli faspex package recv \\\n",
        "   --url=https://faspex.cancerimagingarchive.net/aspera/faspex \\\n",
        "   --username=none --password=none \\\n",
        "   --to-folder=. \\folder\\to\\save\\data\n",
        "   https://faspex.cancerimagingarchive.net/aspera/faspex/external_deliveries/332?passcode=47b546b57f9737fed715a077ec0bb2f2678f8877"
      ]
    },
    {
      "attachments": {},
      "cell_type": "markdown",
      "metadata": {
        "id": "nah09wnJ825e"
      },
      "source": [
        "# Acknowledgements\n",
        "TCIA is funded by the [Cancer Imaging Program (CIP)](https://imaging.cancer.gov/), a part of the United States [National Cancer Institute (NCI)](https://www.cancer.gov/).  It is managed by the [Frederick National Laboratory for Cancer Research (FNLCR)](https://frederick.cancer.gov/) and hosted by the [University of Arkansas for Medical Sciences (UAMS)](https://www.uams.edu/)\n",
        "\n",
        "This notebook was created by [Justin Kirby](https://www.linkedin.com/in/justinkirby82/), [Quasar Jarosz](https://www.linkedin.com/in/quasarjarosz/) and [Lawrence Tarbox](https://www.linkedin.com/in/lawrence-tarbox-088335/). If you leverage this notebook or any TCIA datasets in your work, please be sure to comply with the [TCIA Data Usage Policy](https://wiki.cancerimagingarchive.net/x/c4hF). In particular, make sure to cite the DOI(s) for the specific TCIA datasets you used in addition to the following paper!\n",
        "\n",
        "## TCIA Citation\n",
        "\n",
        "Clark, K., Vendt, B., Smith, K., Freymann, J., Kirby, J., Koppel, P., Moore, S., Phillips, S., Maffitt, D., Pringle, M., Tarbox, L., & Prior, F. (2013). The Cancer Imaging Archive (TCIA): Maintaining and Operating a Public Information Repository. Journal of Digital Imaging, 26(6), 1045–1057. https://doi.org/10.1007/s10278-013-9622-7"
      ]
    }
  ],
  "metadata": {
    "colab": {
      "authorship_tag": "ABX9TyNa88nPJsgpJjDe94aQTGQq",
      "provenance": []
    },
    "kernelspec": {
      "display_name": "Python 3",
      "name": "python3"
    },
    "language_info": {
      "codemirror_mode": {
        "name": "ipython",
        "version": 3
      },
      "file_extension": ".py",
      "mimetype": "text/x-python",
      "name": "python",
      "nbconvert_exporter": "python",
      "pygments_lexer": "ipython3",
      "version": "3.8.10"
    }
  },
  "nbformat": 4,
  "nbformat_minor": 0
}
