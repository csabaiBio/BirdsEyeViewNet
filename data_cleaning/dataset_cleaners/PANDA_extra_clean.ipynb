{
 "cells": [
  {
   "cell_type": "code",
   "execution_count": 16,
   "metadata": {},
   "outputs": [],
   "source": [
    "import pandas as pd"
   ]
  },
  {
   "cell_type": "code",
   "execution_count": 17,
   "metadata": {},
   "outputs": [
    {
     "name": "stdout",
     "output_type": "stream",
     "text": [
      "1000\n",
      "955\n"
     ]
    }
   ],
   "source": [
    "set = pd.read_csv(\"../dataset_csv/PANDA_ISUP.csv\")\n",
    "print(len(set))\n",
    "\n",
    "embedded = pd.read_csv(\"../original_metadata/h5.txt\",header=None)\n",
    "embedded[\"slide_id\"] = embedded[0].str[:-3]\n",
    "print(len(embedded))\n",
    "\n",
    "merged = pd.merge(set,embedded,on=\"slide_id\",how=\"inner\")\n",
    "\n",
    "df = merged.drop(columns=0)\n",
    "df.head()\n",
    "df.to_csv(\"../dataset_csv/PANDA_final.csv\", index=None)"
   ]
  },
  {
   "cell_type": "code",
   "execution_count": null,
   "metadata": {},
   "outputs": [],
   "source": []
  }
 ],
 "metadata": {
  "kernelspec": {
   "display_name": "clam",
   "language": "python",
   "name": "python3"
  },
  "language_info": {
   "codemirror_mode": {
    "name": "ipython",
    "version": 3
   },
   "file_extension": ".py",
   "mimetype": "text/x-python",
   "name": "python",
   "nbconvert_exporter": "python",
   "pygments_lexer": "ipython3",
   "version": "3.7.7"
  },
  "orig_nbformat": 4
 },
 "nbformat": 4,
 "nbformat_minor": 2
}
