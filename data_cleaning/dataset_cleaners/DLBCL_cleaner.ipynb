{
 "cells": [
  {
   "cell_type": "code",
   "execution_count": 11,
   "metadata": {},
   "outputs": [],
   "source": [
    "import pandas as pd\n",
    "import numpy as np "
   ]
  },
  {
   "attachments": {},
   "cell_type": "markdown",
   "metadata": {},
   "source": [
    "#### Combine all the tables with the BLBCL-morph dataset"
   ]
  },
  {
   "cell_type": "code",
   "execution_count": 12,
   "metadata": {},
   "outputs": [
    {
     "data": {
      "text/plain": [
       "0     Anonymized and randomized identifier of each p...\n",
       "1     Results of c-Myc immunohistochemical staining ...\n",
       "2     Results of BCL2 immunohistochemical staining (...\n",
       "3     Results of BCL6 immunohistochemical staining (...\n",
       "4     Results of CD10 immunohistochemical staining (...\n",
       "5     Results of MUM1 immunohistochemical staining (...\n",
       "6     Cell of origin prediction based on the Hans al...\n",
       "7     Results of BCL2 break-apart fluorescence in si...\n",
       "8     Results of BCL6 break-apart fluorescence in si...\n",
       "9     Results of MYC break-apart fluorescence in sit...\n",
       "10    The age (in years) of the patient at the start...\n",
       "11                              ECOG Performance Status\n",
       "12    1 if the amount of Lactate Dehydrogenase (LDH)...\n",
       "13                       The number of extranodal sites\n",
       "14    Modified Ann Arbor staging system, in which hi...\n",
       "15    International prognostic index score (Project ...\n",
       "16    International prognostic index risk group (Int...\n",
       "17    Revised international prognostic index risk gr...\n",
       "18    Overall Survival, length of time (in years) fr...\n",
       "19    Progression Free Survival, the number of years...\n",
       "20    1 if the patient was deceased at the time of l...\n",
       "Name: Description, dtype: object"
      ]
     },
     "execution_count": 12,
     "metadata": {},
     "output_type": "execute_result"
    }
   ],
   "source": [
    "df = pd.read_csv(\"../original_metadata/DLBCL_clinical_data_cleaned.csv\")\n",
    "headers = pd.read_csv(\"../original_metadata/DLBCL_column_description (2).csv\")\n",
    "\n",
    "# add headers\n",
    "headers[\"Description\"]"
   ]
  },
  {
   "cell_type": "code",
   "execution_count": 13,
   "metadata": {},
   "outputs": [
    {
     "data": {
      "text/html": [
       "<div>\n",
       "<style scoped>\n",
       "    .dataframe tbody tr th:only-of-type {\n",
       "        vertical-align: middle;\n",
       "    }\n",
       "\n",
       "    .dataframe tbody tr th {\n",
       "        vertical-align: top;\n",
       "    }\n",
       "\n",
       "    .dataframe thead th {\n",
       "        text-align: right;\n",
       "    }\n",
       "</style>\n",
       "<table border=\"1\" class=\"dataframe\">\n",
       "  <thead>\n",
       "    <tr style=\"text-align: right;\">\n",
       "      <th></th>\n",
       "      <th>0</th>\n",
       "      <th>patient_id</th>\n",
       "      <th>MYC IHC</th>\n",
       "      <th>BCL2 IHC</th>\n",
       "      <th>BCL6 IHC</th>\n",
       "      <th>CD10 IHC</th>\n",
       "      <th>MUM1 IHC</th>\n",
       "      <th>HANS</th>\n",
       "      <th>BCL6 FISH</th>\n",
       "      <th>MYC FISH</th>\n",
       "      <th>...</th>\n",
       "      <th>ECOG PS</th>\n",
       "      <th>LDH</th>\n",
       "      <th>EN</th>\n",
       "      <th>Stage</th>\n",
       "      <th>IPI Score</th>\n",
       "      <th>IPI Risk Group (4 Class)</th>\n",
       "      <th>RIPI Risk Group</th>\n",
       "      <th>OS</th>\n",
       "      <th>PFS</th>\n",
       "      <th>Follow-up Status</th>\n",
       "    </tr>\n",
       "  </thead>\n",
       "  <tbody>\n",
       "    <tr>\n",
       "      <th>0</th>\n",
       "      <td>13952_0.svs</td>\n",
       "      <td>13952</td>\n",
       "      <td>30.0</td>\n",
       "      <td>60.0</td>\n",
       "      <td>70.0</td>\n",
       "      <td>1.0</td>\n",
       "      <td>0.0</td>\n",
       "      <td>1.0</td>\n",
       "      <td>0.0</td>\n",
       "      <td>0.0</td>\n",
       "      <td>...</td>\n",
       "      <td>3</td>\n",
       "      <td>1.0</td>\n",
       "      <td>1.0</td>\n",
       "      <td>2.0</td>\n",
       "      <td>3</td>\n",
       "      <td>2.0</td>\n",
       "      <td>2</td>\n",
       "      <td>8.54</td>\n",
       "      <td>0.64</td>\n",
       "      <td>0</td>\n",
       "    </tr>\n",
       "    <tr>\n",
       "      <th>1</th>\n",
       "      <td>13952_1.svs</td>\n",
       "      <td>13952</td>\n",
       "      <td>30.0</td>\n",
       "      <td>60.0</td>\n",
       "      <td>70.0</td>\n",
       "      <td>1.0</td>\n",
       "      <td>0.0</td>\n",
       "      <td>1.0</td>\n",
       "      <td>0.0</td>\n",
       "      <td>0.0</td>\n",
       "      <td>...</td>\n",
       "      <td>3</td>\n",
       "      <td>1.0</td>\n",
       "      <td>1.0</td>\n",
       "      <td>2.0</td>\n",
       "      <td>3</td>\n",
       "      <td>2.0</td>\n",
       "      <td>2</td>\n",
       "      <td>8.54</td>\n",
       "      <td>0.64</td>\n",
       "      <td>0</td>\n",
       "    </tr>\n",
       "    <tr>\n",
       "      <th>2</th>\n",
       "      <td>13953_0.svs</td>\n",
       "      <td>13953</td>\n",
       "      <td>0.0</td>\n",
       "      <td>0.0</td>\n",
       "      <td>0.0</td>\n",
       "      <td>0.0</td>\n",
       "      <td>0.0</td>\n",
       "      <td>0.0</td>\n",
       "      <td>0.0</td>\n",
       "      <td>0.0</td>\n",
       "      <td>...</td>\n",
       "      <td>0</td>\n",
       "      <td>0.0</td>\n",
       "      <td>1.0</td>\n",
       "      <td>2.0</td>\n",
       "      <td>0</td>\n",
       "      <td>0.0</td>\n",
       "      <td>0</td>\n",
       "      <td>9.84</td>\n",
       "      <td>9.84</td>\n",
       "      <td>0</td>\n",
       "    </tr>\n",
       "    <tr>\n",
       "      <th>3</th>\n",
       "      <td>13953_1.svs</td>\n",
       "      <td>13953</td>\n",
       "      <td>0.0</td>\n",
       "      <td>0.0</td>\n",
       "      <td>0.0</td>\n",
       "      <td>0.0</td>\n",
       "      <td>0.0</td>\n",
       "      <td>0.0</td>\n",
       "      <td>0.0</td>\n",
       "      <td>0.0</td>\n",
       "      <td>...</td>\n",
       "      <td>0</td>\n",
       "      <td>0.0</td>\n",
       "      <td>1.0</td>\n",
       "      <td>2.0</td>\n",
       "      <td>0</td>\n",
       "      <td>0.0</td>\n",
       "      <td>0</td>\n",
       "      <td>9.84</td>\n",
       "      <td>9.84</td>\n",
       "      <td>0</td>\n",
       "    </tr>\n",
       "    <tr>\n",
       "      <th>4</th>\n",
       "      <td>13954_0.svs</td>\n",
       "      <td>13954</td>\n",
       "      <td>0.0</td>\n",
       "      <td>10.0</td>\n",
       "      <td>0.0</td>\n",
       "      <td>0.0</td>\n",
       "      <td>0.0</td>\n",
       "      <td>0.0</td>\n",
       "      <td>0.0</td>\n",
       "      <td>0.0</td>\n",
       "      <td>...</td>\n",
       "      <td>0</td>\n",
       "      <td>0.0</td>\n",
       "      <td>1.0</td>\n",
       "      <td>2.0</td>\n",
       "      <td>1</td>\n",
       "      <td>0.0</td>\n",
       "      <td>1</td>\n",
       "      <td>11.13</td>\n",
       "      <td>11.13</td>\n",
       "      <td>0</td>\n",
       "    </tr>\n",
       "  </tbody>\n",
       "</table>\n",
       "<p>5 rows × 22 columns</p>\n",
       "</div>"
      ],
      "text/plain": [
       "             0 patient_id  MYC IHC  BCL2 IHC  BCL6 IHC  CD10 IHC  MUM1 IHC  \\\n",
       "0  13952_0.svs      13952     30.0      60.0      70.0       1.0       0.0   \n",
       "1  13952_1.svs      13952     30.0      60.0      70.0       1.0       0.0   \n",
       "2  13953_0.svs      13953      0.0       0.0       0.0       0.0       0.0   \n",
       "3  13953_1.svs      13953      0.0       0.0       0.0       0.0       0.0   \n",
       "4  13954_0.svs      13954      0.0      10.0       0.0       0.0       0.0   \n",
       "\n",
       "   HANS  BCL6 FISH  MYC FISH  ...  ECOG PS  LDH   EN  Stage  IPI Score  \\\n",
       "0   1.0        0.0       0.0  ...        3  1.0  1.0    2.0          3   \n",
       "1   1.0        0.0       0.0  ...        3  1.0  1.0    2.0          3   \n",
       "2   0.0        0.0       0.0  ...        0  0.0  1.0    2.0          0   \n",
       "3   0.0        0.0       0.0  ...        0  0.0  1.0    2.0          0   \n",
       "4   0.0        0.0       0.0  ...        0  0.0  1.0    2.0          1   \n",
       "\n",
       "   IPI Risk Group (4 Class)  RIPI Risk Group     OS    PFS  Follow-up Status  \n",
       "0                       2.0                2   8.54   0.64                 0  \n",
       "1                       2.0                2   8.54   0.64                 0  \n",
       "2                       0.0                0   9.84   9.84                 0  \n",
       "3                       0.0                0   9.84   9.84                 0  \n",
       "4                       0.0                1  11.13  11.13                 0  \n",
       "\n",
       "[5 rows x 22 columns]"
      ]
     },
     "execution_count": 13,
     "metadata": {},
     "output_type": "execute_result"
    }
   ],
   "source": [
    "wsis = pd.read_csv(\"../original_metadata/DLBCL_files.csv\",header=None)\n",
    "wsis[\"patient_id\"] = wsis[0].str[:5]\n",
    "df[\"patient_id\"] = df[\"patient_id\"].astype(str)\n",
    "df_merged = pd.merge( wsis,df, on='patient_id')\n",
    "df_merged.head()"
   ]
  },
  {
   "cell_type": "code",
   "execution_count": 14,
   "metadata": {},
   "outputs": [
    {
     "data": {
      "text/plain": [
       "<AxesSubplot:>"
      ]
     },
     "execution_count": 14,
     "metadata": {},
     "output_type": "execute_result"
    },
    {
     "data": {
      "image/png": "[encoded data removed]",
      "text/plain": [
       "<Figure size 432x288 with 1 Axes>"
      ]
     },
     "metadata": {
      "needs_background": "light"
     },
     "output_type": "display_data"
    }
   ],
   "source": [
    "df_merged[\"PFS\"].hist(bins = 20) #split here..."
   ]
  },
  {
   "cell_type": "code",
   "execution_count": 15,
   "metadata": {},
   "outputs": [],
   "source": [
    "# use just first slide from each patient....\n",
    "\n",
    "df_merged[\"slide_id\"] = df_merged[0].str[:-4]\n",
    "df_merged[\"case_id\"] = df_merged[\"patient_id\"]\n",
    "\n",
    "# Turn this into a binary classification task. \n",
    "median = np.median(df_merged['PFS'])\n",
    "# Binarize the values\n",
    "df_merged['label'] = np.where(df_merged['PFS'] <= median, 0, 1)\n",
    "\n",
    "final_df = df_merged[[\"slide_id\",\"label\",\"case_id\"]]\n",
    "final_df.to_csv(\"../dataset_csv/DLBCL_6Year_PFS.csv\",index=None)"
   ]
  }
 ],
 "metadata": {
  "kernelspec": {
   "display_name": "clam",
   "language": "python",
   "name": "python3"
  },
  "language_info": {
   "codemirror_mode": {
    "name": "ipython",
    "version": 3
   },
   "file_extension": ".py",
   "mimetype": "text/x-python",
   "name": "python",
   "nbconvert_exporter": "python",
   "pygments_lexer": "ipython3",
   "version": "3.7.7"
  },
  "orig_nbformat": 4
 },
 "nbformat": 4,
 "nbformat_minor": 2
}
