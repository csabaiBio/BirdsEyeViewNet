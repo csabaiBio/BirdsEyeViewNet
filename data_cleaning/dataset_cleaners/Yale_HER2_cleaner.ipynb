{
 "cells": [
  {
   "cell_type": "code",
   "execution_count": 4,
   "metadata": {},
   "outputs": [],
   "source": [
    "# Create .csv for CLAM downstream task. \n",
    "import pandas as pd "
   ]
  },
  {
   "attachments": {},
   "cell_type": "markdown",
   "metadata": {},
   "source": [
    "### This data has the label in the file name. This script extracts that."
   ]
  },
  {
   "cell_type": "code",
   "execution_count": 5,
   "metadata": {},
   "outputs": [],
   "source": [
    "df = pd.read_csv(\"../original_metadata/Yale_files.csv\")\n",
    "\n",
    "df[\"slide_id\"] = df[\"slide_id\"].str[:]\n",
    "df[\"label\"] = df[\"slide_id\"].str[4:7]\n",
    "map_dict = {'Pos': 1, 'Neg': 0}\n",
    "# Apply the mapping to the column using the map() function\n",
    "df['label'] = df['label'].map(map_dict)\n",
    "df[\"case_id\"] = df.index \n",
    "\n",
    "df.head()\n",
    "df.to_csv(\"../dataset_csv/Yale_HER2_status.csv\")"
   ]
  },
  {
   "cell_type": "code",
   "execution_count": null,
   "metadata": {},
   "outputs": [],
   "source": []
  }
 ],
 "metadata": {
  "kernelspec": {
   "display_name": "clam",
   "language": "python",
   "name": "python3"
  },
  "language_info": {
   "codemirror_mode": {
    "name": "ipython",
    "version": 3
   },
   "file_extension": ".py",
   "mimetype": "text/x-python",
   "name": "python",
   "nbconvert_exporter": "python",
   "pygments_lexer": "ipython3",
   "version": "3.7.7"
  },
  "orig_nbformat": 4
 },
 "nbformat": 4,
 "nbformat_minor": 2
}
