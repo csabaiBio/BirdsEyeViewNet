{
 "cells": [
  {
   "cell_type": "code",
   "execution_count": 7,
   "metadata": {},
   "outputs": [],
   "source": [
    "import torch\n",
    "from torchvision.models.resnet import Bottleneck, ResNet\n",
    "\n",
    "from torchvision import models\n"
   ]
  },
  {
   "cell_type": "code",
   "execution_count": 8,
   "metadata": {},
   "outputs": [],
   "source": [
    "class ResNetTrunk(ResNet):\n",
    "    def __init__(self, *args, **kwargs):\n",
    "        super().__init__(*args, **kwargs)\n",
    "        del self.fc  # remove FC layer (...)\n",
    "\n",
    "    def forward(self, x):\n",
    "        x = self.conv1(x)\n",
    "        x = self.bn1(x)\n",
    "        x = self.relu(x)\n",
    "        x = self.maxpool(x)\n",
    "\n",
    "        x = self.layer1(x)\n",
    "        x = self.layer2(x)\n",
    "        x = self.layer3(x)\n",
    "        x = self.layer4(x)\n",
    "        return x\n",
    "\n",
    "def get_pretrained_url(key):\n",
    "    URL_PREFIX = \"https://github.com/lunit-io/benchmark-ssl-pathology/releases/download/pretrained-weights\"\n",
    "    model_zoo_registry = {\n",
    "        \"BT\": \"bt_rn50_ep200.torch\",\n",
    "        \"MoCoV2\": \"mocov2_rn50_ep200.torch\",\n",
    "        \"SwAV\": \"swav_rn50_ep200.torch\",\n",
    "    }\n",
    "    pretrained_url = f\"{URL_PREFIX}/{model_zoo_registry.get(key)}\"\n",
    "    return pretrained_url\n",
    "\n",
    "def resnet50(pretrained, progress, key, **kwargs):\n",
    "    model = ResNetTrunk(Bottleneck, [3, 4, 6, 3], **kwargs)\n",
    "    if pretrained:\n",
    "        pretrained_url = get_pretrained_url(key)\n",
    "        verbose = model.load_state_dict(\n",
    "            torch.hub.load_state_dict_from_url(pretrained_url, progress=progress)\n",
    "        )\n",
    "        print(verbose)\n",
    "    return model\n"
   ]
  },
  {
   "cell_type": "code",
   "execution_count": 9,
   "metadata": {},
   "outputs": [
    {
     "name": "stdout",
     "output_type": "stream",
     "text": [
      "<All keys matched successfully>\n"
     ]
    }
   ],
   "source": [
    "model_tcga = resnet50(pretrained=True, progress=False, key=\"SwAV\")"
   ]
  },
  {
   "cell_type": "code",
   "execution_count": 17,
   "metadata": {},
   "outputs": [
    {
     "data": {
      "text/plain": [
       "torch.Size([1, 2048, 16, 16])"
      ]
     },
     "execution_count": 17,
     "metadata": {},
     "output_type": "execute_result"
    }
   ],
   "source": [
    "dummy_input = torch.randn(1, 3, 256, 256) \n",
    "out = model_tcga(dummy_input)\n",
    "out.shape #"
   ]
  },
  {
   "cell_type": "code",
   "execution_count": 14,
   "metadata": {},
   "outputs": [
    {
     "data": {
      "text/plain": [
       "torch.Size([1, 2048, 8, 8])"
      ]
     },
     "execution_count": 14,
     "metadata": {},
     "output_type": "execute_result"
    }
   ],
   "source": [
    "\n",
    "model = models.resnet50(pretrained=False)\n",
    "model = torch.nn.Sequential(*list(model.children())[:-2]) #this matches! \n",
    "\n",
    "output = model(dummy_input)\n",
    "output.shape"
   ]
  },
  {
   "cell_type": "code",
   "execution_count": 16,
   "metadata": {},
   "outputs": [
    {
     "name": "stdout",
     "output_type": "stream",
     "text": [
      "131072\n",
      "196608\n"
     ]
    }
   ],
   "source": [
    "print(8*8*2048)\n",
    "print(3*256*256)"
   ]
  },
  {
   "cell_type": "code",
   "execution_count": null,
   "metadata": {},
   "outputs": [],
   "source": []
  }
 ],
 "metadata": {
  "kernelspec": {
   "display_name": "clam",
   "language": "python",
   "name": "python3"
  },
  "language_info": {
   "codemirror_mode": {
    "name": "ipython",
    "version": 3
   },
   "file_extension": ".py",
   "mimetype": "text/x-python",
   "name": "python",
   "nbconvert_exporter": "python",
   "pygments_lexer": "ipython3",
   "version": "3.7.7"
  },
  "orig_nbformat": 4
 },
 "nbformat": 4,
 "nbformat_minor": 2
}
