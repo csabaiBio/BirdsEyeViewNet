{
 "cells": [
  {
   "cell_type": "code",
   "execution_count": null,
   "metadata": {},
   "outputs": [],
   "source": [
    "import numpy as np\n",
    "import matplotlib.pyplot as plt\n",
    "from torchvision import utils\n",
    "from torchvision import models\n",
    "import torch\n",
    "import h5py"
   ]
  },
  {
   "cell_type": "code",
   "execution_count": null,
   "metadata": {},
   "outputs": [],
   "source": [
    "def resnet_50_model_dino(pretrained_weights):\n",
    "\t\"\"\"Load resnet 50 model given path to pretrained weights from dino.\"\"\"\n",
    "\tmodel = models.resnet50(pretrained=False)\n",
    "\tcheckpoint_key = 'teacher'\n",
    "\tstate_dict = torch.load(pretrained_weights, map_location=\"cpu\")\n",
    "\tif checkpoint_key is not None and checkpoint_key in state_dict:\n",
    "\t\tprint(f\"Take key {checkpoint_key} in provided checkpoint dict\")\n",
    "\t\tstate_dict = state_dict[checkpoint_key]\n",
    "\t# remove `module.` prefix\n",
    "\tstate_dict = {k.replace(\"module.\", \"\"): v for k, v in state_dict.items()}\n",
    "\t# remove `backbone.` prefix induced by multicrop wrapper\n",
    "\tstate_dict = {k.replace(\"backbone.\", \"\"): v for k, v in state_dict.items()}\n",
    "\tmsg = model.load_state_dict(state_dict, strict=False)\n",
    "\tprint('Pretrained weights found at {} and loaded with msg: {}'.format(pretrained_weights, msg))\n",
    "\n",
    "\treturn model"
   ]
  },
  {
   "attachments": {},
   "cell_type": "markdown",
   "metadata": {},
   "source": [
    "### Load the model here"
   ]
  },
  {
   "cell_type": "code",
   "execution_count": null,
   "metadata": {},
   "outputs": [],
   "source": [
    "path = \"/mnt/ncshare/ozkilim/lymphoma/CLAM/Geo_CLAM/CNNs/meta_pretrained/dino_rn50_checkpoint.pth\"\n",
    "model = resnet_50_model_dino(path)"
   ]
  }
 ],
 "metadata": {
  "language_info": {
   "name": "python"
  },
  "orig_nbformat": 4
 },
 "nbformat": 4,
 "nbformat_minor": 2
}
