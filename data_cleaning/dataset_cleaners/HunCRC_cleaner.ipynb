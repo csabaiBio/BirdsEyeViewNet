{
 "cells": [
  {
   "cell_type": "code",
   "execution_count": 1,
   "metadata": {},
   "outputs": [],
   "source": [
    "import pandas as pd "
   ]
  },
  {
   "cell_type": "code",
   "execution_count": 2,
   "metadata": {},
   "outputs": [
    {
     "data": {
      "text/html": [
       "<div>\n",
       "<style scoped>\n",
       "    .dataframe tbody tr th:only-of-type {\n",
       "        vertical-align: middle;\n",
       "    }\n",
       "\n",
       "    .dataframe tbody tr th {\n",
       "        vertical-align: top;\n",
       "    }\n",
       "\n",
       "    .dataframe thead th {\n",
       "        text-align: right;\n",
       "    }\n",
       "</style>\n",
       "<table border=\"1\" class=\"dataframe\">\n",
       "  <thead>\n",
       "    <tr style=\"text-align: right;\">\n",
       "      <th></th>\n",
       "      <th>slideID</th>\n",
       "      <th>CATEGORY</th>\n",
       "      <th>Haggit-level</th>\n",
       "      <th>Biopsy or polyp</th>\n",
       "      <th>Polyp type</th>\n",
       "    </tr>\n",
       "  </thead>\n",
       "  <tbody>\n",
       "    <tr>\n",
       "      <th>0</th>\n",
       "      <td>1</td>\n",
       "      <td>adenoma</td>\n",
       "      <td>Not_applicable</td>\n",
       "      <td>Polyp</td>\n",
       "      <td>tubular_adenoma</td>\n",
       "    </tr>\n",
       "    <tr>\n",
       "      <th>1</th>\n",
       "      <td>2</td>\n",
       "      <td>CRC</td>\n",
       "      <td>Not_applicable</td>\n",
       "      <td>Biopsy</td>\n",
       "      <td>Not_applicable</td>\n",
       "    </tr>\n",
       "    <tr>\n",
       "      <th>2</th>\n",
       "      <td>3</td>\n",
       "      <td>adenoma</td>\n",
       "      <td>Not_applicable</td>\n",
       "      <td>Biopsy</td>\n",
       "      <td>tubular_adenoma</td>\n",
       "    </tr>\n",
       "    <tr>\n",
       "      <th>3</th>\n",
       "      <td>4</td>\n",
       "      <td>CRC</td>\n",
       "      <td>Not_applicable</td>\n",
       "      <td>Biopsy</td>\n",
       "      <td>Not_applicable</td>\n",
       "    </tr>\n",
       "    <tr>\n",
       "      <th>4</th>\n",
       "      <td>5</td>\n",
       "      <td>non_neoplastic_lesion</td>\n",
       "      <td>Not_applicable</td>\n",
       "      <td>Biopsy</td>\n",
       "      <td>hyperplastic</td>\n",
       "    </tr>\n",
       "  </tbody>\n",
       "</table>\n",
       "</div>"
      ],
      "text/plain": [
       "   slideID               CATEGORY    Haggit-level Biopsy or polyp  \\\n",
       "0        1                adenoma  Not_applicable           Polyp   \n",
       "1        2                    CRC  Not_applicable          Biopsy   \n",
       "2        3                adenoma  Not_applicable          Biopsy   \n",
       "3        4                    CRC  Not_applicable          Biopsy   \n",
       "4        5  non_neoplastic_lesion  Not_applicable          Biopsy   \n",
       "\n",
       "        Polyp type  \n",
       "0  tubular_adenoma  \n",
       "1   Not_applicable  \n",
       "2  tubular_adenoma  \n",
       "3   Not_applicable  \n",
       "4     hyperplastic  "
      ]
     },
     "execution_count": 2,
     "metadata": {},
     "output_type": "execute_result"
    }
   ],
   "source": [
    "df = pd.read_csv(\"../original_metadata/huncrc_slide_level_annotations.csv\")\n",
    "df.head()"
   ]
  },
  {
   "cell_type": "code",
   "execution_count": 3,
   "metadata": {},
   "outputs": [],
   "source": [
    "df[\"CATEGORY\"].value_counts()\n",
    "df = df.drop(df[df[\"CATEGORY\"] == \"adenoma\"].index)"
   ]
  },
  {
   "attachments": {},
   "cell_type": "markdown",
   "metadata": {},
   "source": [
    "### Drop the adenoma data "
   ]
  },
  {
   "cell_type": "code",
   "execution_count": 4,
   "metadata": {},
   "outputs": [],
   "source": [
    "map_dict = {'CRC': 1, 'non_neoplastic_lesion': 0, 'negative': 0}\n",
    "df['label'] = df['CATEGORY'].map(map_dict)"
   ]
  },
  {
   "cell_type": "code",
   "execution_count": 5,
   "metadata": {},
   "outputs": [],
   "source": [
    "df[\"case_id\"] = df.index #all cases are from different patients in this dataset.\n",
    "df['slide_id'] = df[\"slideID\"].astype(str).str.zfill(3) # turn 1 to 001 for example...\n",
    "df = df.drop(columns=[\"CATEGORY\",\"Haggit-level\",\"Biopsy or polyp\", \"Polyp type\",\"slideID\"])\n",
    "df = df.reindex(columns=['case_id', 'slide_id', 'label'])"
   ]
  },
  {
   "cell_type": "code",
   "execution_count": 6,
   "metadata": {},
   "outputs": [],
   "source": [
    "df.to_csv(\"../dataset_csv/HunCRC_CRC_vs_clear.csv\", index=None)"
   ]
  }
 ],
 "metadata": {
  "kernelspec": {
   "display_name": "Python 3",
   "language": "python",
   "name": "python3"
  },
  "language_info": {
   "codemirror_mode": {
    "name": "ipython",
    "version": 3
   },
   "file_extension": ".py",
   "mimetype": "text/x-python",
   "name": "python",
   "nbconvert_exporter": "python",
   "pygments_lexer": "ipython3",
   "version": "3.7.7"
  },
  "orig_nbformat": 4
 },
 "nbformat": 4,
 "nbformat_minor": 2
}
